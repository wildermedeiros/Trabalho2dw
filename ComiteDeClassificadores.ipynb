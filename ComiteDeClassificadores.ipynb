{
 "cells": [
  {
   "cell_type": "code",
   "execution_count": 21,
   "metadata": {},
   "outputs": [
    {
     "name": "stdout",
     "output_type": "stream",
     "text": [
      "1 para setosa, 2 para versicolor, 3 para virginica\n",
      "s1, s2 e s3 são as somas dos tres classificadores para as determinadas classes e cs é a classe escolhida\n",
      "p1, p2, p3 e cp, são analagos, mas para o produto das probabilidades\n",
      "\n",
      "\n",
      "       s1    s2    s3 cs   p1    p2    p3 cp\n",
      "0    0.00  0.01  2.99  3  0.0  0.00  0.99  3\n",
      "1    0.00  0.26  2.74  3  0.0  0.00  0.76  3\n",
      "2    0.00  0.09  2.91  3  0.0  0.00  0.91  3\n",
      "3    0.00  0.04  2.95  3  0.0  0.00  0.95  3\n",
      "4    0.00  0.01  2.99  3  0.0  0.00  0.99  3\n",
      "..    ...   ...   ... ..  ...   ...   ... ..\n",
      "145  0.01  2.97  0.02  2  0.0  0.97  0.00  2\n",
      "146  0.01  2.70  0.29  2  0.0  0.72  0.00  2\n",
      "147  0.01  2.45  0.54  2  0.0  0.49  0.00  2\n",
      "148  0.01  2.98  0.01  2  0.0  0.98  0.00  2\n",
      "149  0.01  2.82  0.16  2  0.0  0.83  0.00  2\n",
      "\n",
      "[150 rows x 8 columns]\n"
     ]
    }
   ],
   "source": [
    "import pandas as pd\n",
    "\n",
    "# DATA\n",
    "\n",
    "data = pd.read_csv(r'C:\\Users\\Usuario\\Desktop\\resultado.csv')\n",
    "df = pd.DataFrame(data, columns=['1', '2', '3'])\n",
    "df = df.replace('\\*', '', regex=True).astype(float)\n",
    "\n",
    "# DATA1\n",
    "\n",
    "data1 = pd.read_csv(r'C:\\Users\\Usuario\\Desktop\\resultado1.csv')\n",
    "df1 = pd.DataFrame(data1, columns=['1', '2', '3'])\n",
    "df1 = df1.replace('\\*', '', regex=True).astype(float)\n",
    "\n",
    "# DATA2\n",
    "\n",
    "data2 = pd.read_csv(r'C:\\Users\\Usuario\\Desktop\\resultado2.csv')\n",
    "df2 = pd.DataFrame(data2, columns=['1', '2', '3'])\n",
    "df2 = df2.replace('\\*', '', regex=True).astype(float)\n",
    "\n",
    "# SUM\n",
    "\n",
    "DFaddDF1 = df.add(df1, fill_value=0)\n",
    "final_df_add = DFaddDF1.add(df2, fill_value=0)\n",
    "\n",
    "final_df_add = final_df_add.round(decimals=2)\n",
    "#print(final_df_add)\n",
    "\n",
    "# MULTI\n",
    "\n",
    "DFmultiDF1 = df.multiply(df1, fill_value=0)\n",
    "final_df_multi = DFmultiDF1.multiply(df2, fill_value=0)\n",
    "\n",
    "final_df_multi = final_df_multi.round(decimals=2)\n",
    "#print(final_df_multi)\n",
    "\n",
    "# CHOICE \n",
    "\n",
    "maxValueIndexInstAdd = final_df_add.idxmax(axis=1)\n",
    "#print(maxValueIndexInstAdd)\n",
    "\n",
    "maxValueIndexInstMulti = final_df_multi.idxmax(axis=1)\n",
    "#print(maxValueIndexInstMulti)\n",
    "\n",
    "# OUTPUT\n",
    "\n",
    "sumConcat = pd.concat([final_df_add, maxValueIndexInstAdd], axis=1)\n",
    "multiConcat = pd.concat([final_df_multi, maxValueIndexInstMulti], axis=1)\n",
    "finalOutput = pd.concat([sumConcat, multiConcat], axis=1)\n",
    "\n",
    "finalOutput.columns = ['s1', 's2', 's3', 'cs', 'p1', 'p2', 'p3', 'cp']\n",
    "\n",
    "print(\"1 para setosa, 2 para versicolor, 3 para virginica\")\n",
    "print(\"s1, s2 e s3 são as somas dos tres classificadores para as determinadas classes e cs é a classe escolhida\")\n",
    "print(\"p1, p2, p3 e cp, são analagos, mas para o produto das probabilidades\")\n",
    "print('\\n')\n",
    "\n",
    "\n",
    "\n",
    "print(finalOutput)\n"
   ]
  }
 ],
 "metadata": {
  "interpreter": {
   "hash": "1564ab7a8a14d1fa39d9d42dbe913f960e04be420fae7be3f6a9326a9f4f2f89"
  },
  "kernelspec": {
   "display_name": "Python 3.9.2 64-bit",
   "language": "python",
   "name": "python3"
  },
  "language_info": {
   "codemirror_mode": {
    "name": "ipython",
    "version": 3
   },
   "file_extension": ".py",
   "mimetype": "text/x-python",
   "name": "python",
   "nbconvert_exporter": "python",
   "pygments_lexer": "ipython3",
   "version": "3.9.2"
  },
  "orig_nbformat": 4
 },
 "nbformat": 4,
 "nbformat_minor": 2
}
